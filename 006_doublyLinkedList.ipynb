{
 "cells": [
  {
   "cell_type": "code",
   "execution_count": 16,
   "metadata": {},
   "outputs": [],
   "source": [
    "class Node:\n",
    "    def __init__(self,data = None,next = None,prev=None):\n",
    "        self.data = data\n",
    "        self.next = next\n",
    "        self.prev = prev\n",
    "\n",
    "class DoublyLinkedList:\n",
    "    def __init__(self,head = None,tail = None):\n",
    "        self.head = head\n",
    "        self.tail = tail\n",
    "        \n",
    "    def append(self,data):\n",
    "        node = Node(data)\n",
    "        if self.head == None:\n",
    "            self.head = node\n",
    "            self.tail = node\n",
    "        else:\n",
    "            curr = self.tail\n",
    "            node.prev = curr\n",
    "            self.tail.next = node\n",
    "            self.tail = node\n",
    "    \n",
    "\n",
    "    def delete(self,data):\n",
    "        if self.head == None:\n",
    "            self.head = None\n",
    "            self.tail = None\n",
    "        else:\n",
    "            curr = self.head\n",
    "            while curr:\n",
    "                if data == curr.data:\n",
    "                    if curr == self.head:\n",
    "                        curr.next.prev = None\n",
    "                        self.head = curr.next\n",
    "                    elif curr == self.tail:\n",
    "                        curr.prev.next = None\n",
    "                        self.tail = curr.prev\n",
    "                    else:\n",
    "                        currprev = curr.prev\n",
    "                        currnext = curr.next\n",
    "                        currprev.next = currnext\n",
    "                        currnext.prev = currprev\n",
    "                    return\n",
    "                curr = curr.next\n",
    "    \n",
    "    def iter(self):\n",
    "        curr = self.head\n",
    "        while curr:\n",
    "            data = curr.data\n",
    "            curr = curr.next\n",
    "            yield data\n",
    "\n",
    "    "
   ]
  },
  {
   "cell_type": "code",
   "execution_count": 17,
   "metadata": {},
   "outputs": [
    {
     "name": "stdout",
     "output_type": "stream",
     "text": [
      "two\n",
      "four\n",
      "five\n"
     ]
    }
   ],
   "source": [
    "d = DoublyLinkedList()\n",
    "d.append('one')\n",
    "d.append('two')\n",
    "d.append('three')\n",
    "d.append('four')\n",
    "d.append('five')\n",
    "d.append('six')\n",
    "\n",
    "d.delete('three')\n",
    "d.delete('one')\n",
    "d.delete('six')\n",
    "\n",
    "for o in d.iter():\n",
    "    print(o)"
   ]
  },
  {
   "cell_type": "code",
   "execution_count": null,
   "metadata": {},
   "outputs": [],
   "source": []
  }
 ],
 "metadata": {
  "kernelspec": {
   "display_name": "Python 3",
   "language": "python",
   "name": "python3"
  },
  "language_info": {
   "codemirror_mode": {
    "name": "ipython",
    "version": 3
   },
   "file_extension": ".py",
   "mimetype": "text/x-python",
   "name": "python",
   "nbconvert_exporter": "python",
   "pygments_lexer": "ipython3",
   "version": "3.7.6"
  }
 },
 "nbformat": 4,
 "nbformat_minor": 4
}
