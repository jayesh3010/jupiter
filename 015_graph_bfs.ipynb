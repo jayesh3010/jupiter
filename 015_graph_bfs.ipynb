{
 "cells": [
  {
   "cell_type": "code",
   "execution_count": 22,
   "metadata": {},
   "outputs": [],
   "source": [
    "class Queue:\n",
    "    def __init__(self,list=[],size = 0):\n",
    "        self.list = list\n",
    "        self.size = size\n",
    "    \n",
    "    def enqueue(self,data):\n",
    "        self.list.insert(0,data)\n",
    "        self.size += 1\n",
    "    \n",
    "    def dequeue(self):\n",
    "        data = self.list.pop()\n",
    "        self.size -= 1\n",
    "        return data"
   ]
  },
  {
   "cell_type": "code",
   "execution_count": 23,
   "metadata": {},
   "outputs": [],
   "source": [
    "graph = dict() \n",
    "graph['A'] = ['B', 'G', 'D'] \n",
    "graph['B'] = ['A', 'F', 'E'] \n",
    "graph['C'] = ['F', 'H'] \n",
    "graph['D'] = ['F', 'A'] \n",
    "graph['E'] = ['B', 'G'] \n",
    "graph['F'] = ['B', 'D', 'C'] \n",
    "graph['G'] = ['A', 'E'] \n",
    "graph['H'] = ['C'] "
   ]
  },
  {
   "cell_type": "code",
   "execution_count": 24,
   "metadata": {},
   "outputs": [],
   "source": [
    "def bredth_first_search(graph, root):\n",
    "    visited_vertices = list()\n",
    "    queue = Queue()\n",
    "    queue.enqueue(root)\n",
    "    visited_vertices.append(root)\n",
    "    \n",
    "    while queue.size > 0:\n",
    "        data = queue.dequeue()\n",
    "        \n",
    "        adj_nodes = graph[data]\n",
    "        \n",
    "        print(visited_vertices)\n",
    "        print(adj_nodes)\n",
    "        \n",
    "        remaining_nodes = set(adj_nodes).difference(set(visited_vertices))\n",
    "        print(remaining_nodes)\n",
    "        \n",
    "        if len(remaining_nodes) > 0:\n",
    "            for node in remaining_nodes:\n",
    "                visited_vertices.append(node)\n",
    "                queue.enqueue(node)\n",
    "    \n",
    "    return visited_vertices\n",
    "                \n",
    "    \n"
   ]
  },
  {
   "cell_type": "code",
   "execution_count": 25,
   "metadata": {},
   "outputs": [
    {
     "name": "stdout",
     "output_type": "stream",
     "text": [
      "['A']\n",
      "['B', 'G', 'D']\n",
      "{'B', 'G', 'D'}\n",
      "['A', 'B', 'G', 'D']\n",
      "['A', 'F', 'E']\n",
      "{'E', 'F'}\n",
      "['A', 'B', 'G', 'D', 'E', 'F']\n",
      "['A', 'E']\n",
      "set()\n",
      "['A', 'B', 'G', 'D', 'E', 'F']\n",
      "['F', 'A']\n",
      "set()\n",
      "['A', 'B', 'G', 'D', 'E', 'F']\n",
      "['B', 'G']\n",
      "set()\n",
      "['A', 'B', 'G', 'D', 'E', 'F']\n",
      "['B', 'D', 'C']\n",
      "{'C'}\n",
      "['A', 'B', 'G', 'D', 'E', 'F', 'C']\n",
      "['F', 'H']\n",
      "{'H'}\n",
      "['A', 'B', 'G', 'D', 'E', 'F', 'C', 'H']\n",
      "['C']\n",
      "set()\n",
      "['A', 'B', 'G', 'D', 'E', 'F', 'C', 'H']\n"
     ]
    }
   ],
   "source": [
    "print(bredth_first_search(graph,'A'))"
   ]
  },
  {
   "cell_type": "code",
   "execution_count": null,
   "metadata": {},
   "outputs": [],
   "source": []
  }
 ],
 "metadata": {
  "kernelspec": {
   "display_name": "Python 3",
   "language": "python",
   "name": "python3"
  },
  "language_info": {
   "codemirror_mode": {
    "name": "ipython",
    "version": 3
   },
   "file_extension": ".py",
   "mimetype": "text/x-python",
   "name": "python",
   "nbconvert_exporter": "python",
   "pygments_lexer": "ipython3",
   "version": "3.7.6"
  }
 },
 "nbformat": 4,
 "nbformat_minor": 4
}
