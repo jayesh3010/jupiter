{
 "cells": [
  {
   "cell_type": "code",
   "execution_count": 27,
   "metadata": {},
   "outputs": [],
   "source": [
    "class Node:\n",
    "    def __init__(self,data=None,left_child=None,right_child=None):\n",
    "        self.data = data\n",
    "        self.left_child = left_child\n",
    "        self.right_child = right_child\n",
    "\n",
    "class BST:\n",
    "    def __init__(self,root=None):\n",
    "        self.root = root\n",
    "\n",
    "    #find minimum\n",
    "    def find_min(self):\n",
    "        current = self.root\n",
    "        if current is None:\n",
    "            return None\n",
    "        else:\n",
    "            while current.left_child:\n",
    "                current = current.left_child\n",
    "            return current\n",
    "    \n",
    "    #find maximum\n",
    "    def find_max(self):\n",
    "        current = self.root\n",
    "        if current is None:\n",
    "            return None\n",
    "        else:\n",
    "            while current.right_child:\n",
    "                current = current.right_child\n",
    "            \n",
    "            return current\n",
    "    \n",
    "    #insert to the tree\n",
    "    def insert(self,data):\n",
    "        node = Node(data)\n",
    "        current = self.root\n",
    "        if current is None:\n",
    "            self.root = node\n",
    "        else:\n",
    "            while current:\n",
    "                parent = current\n",
    "                if current.data > data:\n",
    "                    if current.left_child is None:\n",
    "                        parent.left_child = node\n",
    "                        break\n",
    "                    else:\n",
    "                        current = current.left_child\n",
    "                        \n",
    "                else:\n",
    "                    if current.right_child is None:\n",
    "                        parent.right_child = node\n",
    "                        break\n",
    "                    else:\n",
    "                        current = current.right_child\n",
    "                        \n",
    "    \n",
    "    def inorder(self,curr):\n",
    "        if curr is None:\n",
    "            return None\n",
    "        else:\n",
    "            self.inorder(curr.left_child)\n",
    "            print(curr.data)\n",
    "            self.inorder(curr.right_child)\n",
    "    \n",
    "            \n",
    "            \n",
    "                    \n",
    "                "
   ]
  },
  {
   "cell_type": "code",
   "execution_count": 28,
   "metadata": {},
   "outputs": [],
   "source": [
    "bst = BST()\n",
    "bst.insert(4)\n",
    "bst.insert(2)\n",
    "bst.insert(5)\n",
    "bst.insert(10)\n",
    "bst.insert(6)"
   ]
  },
  {
   "cell_type": "code",
   "execution_count": 29,
   "metadata": {},
   "outputs": [
    {
     "name": "stdout",
     "output_type": "stream",
     "text": [
      "4\n",
      "2\n",
      "5\n"
     ]
    }
   ],
   "source": [
    "print(bst.root.data)\n",
    "print(bst.root.left_child.data)\n",
    "print(bst.root.right_child.data)\n"
   ]
  },
  {
   "cell_type": "code",
   "execution_count": 30,
   "metadata": {},
   "outputs": [
    {
     "name": "stdout",
     "output_type": "stream",
     "text": [
      "2\n",
      "4\n",
      "5\n",
      "6\n",
      "10\n"
     ]
    }
   ],
   "source": [
    "bst.inorder(bst.root)"
   ]
  },
  {
   "cell_type": "code",
   "execution_count": 31,
   "metadata": {},
   "outputs": [
    {
     "name": "stdout",
     "output_type": "stream",
     "text": [
      "2\n"
     ]
    }
   ],
   "source": [
    "print(bst.find_min().data)"
   ]
  },
  {
   "cell_type": "code",
   "execution_count": 32,
   "metadata": {},
   "outputs": [
    {
     "name": "stdout",
     "output_type": "stream",
     "text": [
      "10\n"
     ]
    }
   ],
   "source": [
    "print(bst.find_max().data)"
   ]
  },
  {
   "cell_type": "code",
   "execution_count": null,
   "metadata": {},
   "outputs": [],
   "source": []
  }
 ],
 "metadata": {
  "kernelspec": {
   "display_name": "Python 3",
   "language": "python",
   "name": "python3"
  },
  "language_info": {
   "codemirror_mode": {
    "name": "ipython",
    "version": 3
   },
   "file_extension": ".py",
   "mimetype": "text/x-python",
   "name": "python",
   "nbconvert_exporter": "python",
   "pygments_lexer": "ipython3",
   "version": "3.7.6"
  }
 },
 "nbformat": 4,
 "nbformat_minor": 4
}
