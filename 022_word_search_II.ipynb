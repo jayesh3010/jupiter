{
 "cells": [
  {
   "cell_type": "markdown",
   "metadata": {},
   "source": [
    "https://leetcode.com/problems/word-search-ii/"
   ]
  },
  {
   "cell_type": "code",
   "execution_count": 3,
   "metadata": {},
   "outputs": [],
   "source": [
    "from typing import List\n",
    "class TrieNode:\n",
    "    def __init__(self,word = None):\n",
    "        self.child = [None] * 26\n",
    "        self.word = word\n",
    "                         \n",
    "class TrieTree:\n",
    "    def buildTrie(self, words: List[str]) -> TrieNode:\n",
    "        \n",
    "        root = TrieNode()\n",
    "        \n",
    "        for word in words:\n",
    "            currentnode = root\n",
    "            for w in word:\n",
    "                i = ord(w) - ord('a')\n",
    "                if currentnode.child[i] == None:\n",
    "                    currentnode.child[i] = TrieNode()\n",
    "                currentnode = currentnode.child[i]\n",
    "            currentnode.word = word\n",
    "        \n",
    "        return root\n",
    "        \n",
    "        \n",
    "    def inorder(self,root):\n",
    "        \n",
    "        #print('here')\n",
    "        for i in range(26):\n",
    "            if root.child[i] is not None:\n",
    "                print(i,'-',chr(ord('a')+i))\n",
    "                if root.child[i].word is not None:\n",
    "                    print(root.child[i].word)\n",
    "                self.inorder(root.child[i])\n",
    "\n",
    "    \n",
    "class Solution:\n",
    "    def findWords(self, board: List[List[str]], words: List[str]) -> List[str]:\n",
    "        \n",
    "        t = TrieTree()\n",
    "        root = t.buildTrie(words)\n",
    "        \n",
    "        #t.inorder(root)\n",
    "        \n",
    "        presentwords = []\n",
    "        \n",
    "        for i in range(len(board)):\n",
    "            for j in range(len(board[0])):\n",
    "                #ind = ord(board[i][j]) - ord('a')\n",
    "                #if root.child[ind] is not None:\n",
    "                self.dfs(board,i,j,root,presentwords)\n",
    "        \n",
    "        #print(presentwords)\n",
    "        \n",
    "        return presentwords\n",
    "    \n",
    "    def dfs(self,board: List[List[str]], i:int,j:int,t:TrieNode, presentwords:List[str]):\n",
    "        \n",
    "        if board[i][j] == \"~\":\n",
    "            return\n",
    "        \n",
    "        ind = ord(board[i][j]) - ord('a')\n",
    "        \n",
    "        \n",
    "        if t.child[ind] is None:\n",
    "            return\n",
    "        \n",
    "        #print(i,j,presentwords,ind)\n",
    "        \n",
    "        \n",
    "        #print(t.child[ind], t.child[ind].word)\n",
    "        \n",
    "        if t.child[ind].word is not None:\n",
    "            presentwords.append(t.child[ind].word)\n",
    "            #print(presentwords)\n",
    "            t.child[ind].word = None\n",
    "            #return\n",
    "        \n",
    "        \n",
    "        temp= board[i][j]\n",
    "        board[i][j] = \"~\"\n",
    "        \n",
    "        if i > 0:\n",
    "            self.dfs(board,i-1,j,t.child[ind],presentwords)\n",
    "        \n",
    "        if j > 0:\n",
    "            self.dfs(board,i,j-1,t.child[ind],presentwords)\n",
    "        \n",
    "        if i < len(board) -1:\n",
    "            self.dfs(board,i+1,j,t.child[ind],presentwords)\n",
    "        \n",
    "        if j < len(board[0]) - 1:\n",
    "            self.dfs(board,i,j+1,t.child[ind],presentwords)\n",
    "        \n",
    "        board[i][j] = temp\n",
    "        \n",
    "        return"
   ]
  },
  {
   "cell_type": "code",
   "execution_count": 4,
   "metadata": {},
   "outputs": [
    {
     "name": "stdout",
     "output_type": "stream",
     "text": [
      "['oath', 'eat']\n"
     ]
    }
   ],
   "source": [
    "s = Solution()\n",
    "print(s.findWords([[\"o\",\"a\",\"a\",\"n\"],[\"e\",\"t\",\"a\",\"e\"],[\"i\",\"h\",\"k\",\"r\"],[\"i\",\"f\",\"l\",\"v\"]],[\"oath\",\"pea\",\"eat\",\"rain\"]))"
   ]
  }
 ],
 "metadata": {
  "kernelspec": {
   "display_name": "Python 3",
   "language": "python",
   "name": "python3"
  },
  "language_info": {
   "codemirror_mode": {
    "name": "ipython",
    "version": 3
   },
   "file_extension": ".py",
   "mimetype": "text/x-python",
   "name": "python",
   "nbconvert_exporter": "python",
   "pygments_lexer": "ipython3",
   "version": "3.7.6"
  }
 },
 "nbformat": 4,
 "nbformat_minor": 4
}
