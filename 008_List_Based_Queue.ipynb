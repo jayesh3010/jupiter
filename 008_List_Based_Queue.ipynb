{
 "cells": [
  {
   "cell_type": "code",
   "execution_count": 9,
   "metadata": {},
   "outputs": [],
   "source": [
    "class ListQueue:\n",
    "    def __init__(self):\n",
    "        self.items = []\n",
    "        self.size = 0\n",
    "    \n",
    "    def __str__(self):\n",
    "        if self.size == 0:\n",
    "            return None\n",
    "        else:\n",
    "            val = ''\n",
    "            for i in self.items:\n",
    "                val = val + ' ' + str(i)\n",
    "            return val\n",
    "    \n",
    "    def enqueue(self,data):\n",
    "        self.items.insert(0, data)\n",
    "        self.size += 1\n",
    "    \n",
    "    def dequeue(self):\n",
    "        data = self.items.pop()\n",
    "        self.size -= 1\n",
    "        return data\n",
    "\n",
    "    \n",
    "    "
   ]
  },
  {
   "cell_type": "code",
   "execution_count": 10,
   "metadata": {},
   "outputs": [
    {
     "name": "stdout",
     "output_type": "stream",
     "text": [
      " 1 2 3\n",
      " 1 2\n"
     ]
    }
   ],
   "source": [
    "listqueue = ListQueue()\n",
    "listqueue.enqueue(1)\n",
    "listqueue.enqueue(2)\n",
    "listqueue.enqueue(3)\n",
    "print(listqueue)\n",
    "listqueue.dequeue()\n",
    "print(listqueue)\n",
    "\n"
   ]
  },
  {
   "cell_type": "code",
   "execution_count": null,
   "metadata": {},
   "outputs": [],
   "source": []
  }
 ],
 "metadata": {
  "kernelspec": {
   "display_name": "Python 3",
   "language": "python",
   "name": "python3"
  },
  "language_info": {
   "codemirror_mode": {
    "name": "ipython",
    "version": 3
   },
   "file_extension": ".py",
   "mimetype": "text/x-python",
   "name": "python",
   "nbconvert_exporter": "python",
   "pygments_lexer": "ipython3",
   "version": "3.7.6"
  }
 },
 "nbformat": 4,
 "nbformat_minor": 4
}
