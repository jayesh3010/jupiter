{
 "cells": [
  {
   "cell_type": "markdown",
   "metadata": {},
   "source": [
    "https://leetcode.com/problems/rotting-oranges/\n"
   ]
  },
  {
   "cell_type": "code",
   "execution_count": 2,
   "metadata": {},
   "outputs": [],
   "source": [
    "from collections import deque\n",
    "from typing import List\n",
    "\n",
    "class Solution:\n",
    "    def orangesRotting(self, grid: List[List[int]]) -> int:\n",
    "        \n",
    "        print(grid)\n",
    "        \n",
    "        dq = deque()\n",
    "\n",
    "        totalfreshoranges = 0\n",
    "\n",
    "        for i in range(len(grid)):\n",
    "            for j in range(len(grid[0])):\n",
    "                if grid[i][j] == 2 :\n",
    "                    dq.append([i,j,0])\n",
    "                elif grid[i][j] == 1:\n",
    "                    totalfreshoranges += 1\n",
    "\n",
    "        print(dq)\n",
    "        print(totalfreshoranges)\n",
    "\n",
    "        minutes = 0\n",
    "        while len(dq) > 0:\n",
    "\n",
    "            print(\"dq\",dq)\n",
    "            size = len(dq)\n",
    "\n",
    "            for _ in range(size):\n",
    "\n",
    "                i,j,m = dq.popleft()\n",
    "                print(i,j,m,minutes)\n",
    "                minutes = m\n",
    "\n",
    "                if i > 0 and grid[i-1][j] == 1:\n",
    "                    grid[i - 1][j] = 2\n",
    "                    dq.append([i-1,j,m+1])\n",
    "                    totalfreshoranges -= 1\n",
    "\n",
    "                if i < len(grid) - 1 and grid[i + 1][j] == 1:\n",
    "                    grid[i + 1][j] = 2\n",
    "                    dq.append([i + 1, j, m + 1])\n",
    "                    totalfreshoranges -= 1\n",
    "\n",
    "                if j > 0 and grid[i][j - 1] == 1:\n",
    "                    grid[i][j -1] = 2\n",
    "                    dq.append([i, j - 1, m + 1])\n",
    "                    totalfreshoranges -= 1\n",
    "\n",
    "                if j < len(grid[0]) - 1 and grid[i][j+1] == 1:\n",
    "                    grid[i][j+1] = 2\n",
    "                    dq.append([i, j+1, m + 1])\n",
    "                    totalfreshoranges -= 1\n",
    "\n",
    "        print(minutes)\n",
    "        print(totalfreshoranges)\n",
    "        return -1 if totalfreshoranges > 0 else minutes"
   ]
  },
  {
   "cell_type": "code",
   "execution_count": null,
   "metadata": {},
   "outputs": [],
   "source": [
    "s = Solution()\n",
    "#s.orangesRotting([[2,1,1],[1,1,0],[0,1,1]])\n",
    "s.orangesRotting([[1],[2]])"
   ]
  }
 ],
 "metadata": {
  "kernelspec": {
   "display_name": "Python 3",
   "language": "python",
   "name": "python3"
  },
  "language_info": {
   "codemirror_mode": {
    "name": "ipython",
    "version": 3
   },
   "file_extension": ".py",
   "mimetype": "text/x-python",
   "name": "python",
   "nbconvert_exporter": "python",
   "pygments_lexer": "ipython3",
   "version": "3.7.6"
  }
 },
 "nbformat": 4,
 "nbformat_minor": 4
}
