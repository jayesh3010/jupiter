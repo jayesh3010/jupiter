{
 "cells": [
  {
   "cell_type": "markdown",
   "metadata": {},
   "source": [
    "### This is wordcount fuction"
   ]
  },
  {
   "cell_type": "code",
   "execution_count": 1,
   "metadata": {},
   "outputs": [],
   "source": [
    "def wordcount(fname):\n",
    "    try:\n",
    "        fhand=open(fname)\n",
    "    except:\n",
    "        print('File cannot be opened')\n",
    "        exit()\n",
    "    count=dict()\n",
    "    for line in fhand:\n",
    "        words = line.split()\n",
    "        for word in words:\n",
    "            if word not in count:\n",
    "                count[word] = 1\n",
    "            else:\n",
    "                count[word] += 1\n",
    "    return count"
   ]
  },
  {
   "cell_type": "code",
   "execution_count": 2,
   "metadata": {},
   "outputs": [],
   "source": [
    "count = wordcount(\"nifi.properties\")"
   ]
  },
  {
   "cell_type": "markdown",
   "metadata": {},
   "source": [
    "### filter all items where count >5"
   ]
  },
  {
   "cell_type": "code",
   "execution_count": 3,
   "metadata": {},
   "outputs": [
    {
     "name": "stdout",
     "output_type": "stream",
     "text": [
      "('#', 86)\n",
      "('to', 10)\n",
      "('the', 26)\n",
      "('for', 10)\n",
      "('The', 6)\n",
      "('in', 6)\n",
      "('a', 7)\n",
      "('of', 7)\n",
      "('and', 7)\n",
      "('Properties', 9)\n",
      "('sec', 9)\n",
      "('will', 6)\n",
      "('be', 7)\n",
      "('properties', 10)\n",
      "('Repository', 6)\n",
      "('secs', 6)\n"
     ]
    }
   ],
   "source": [
    "for item in count.items():\n",
    "    if item[1]>5:\n",
    "        print(item)"
   ]
  },
  {
   "cell_type": "code",
   "execution_count": 4,
   "metadata": {},
   "outputs": [
    {
     "name": "stdout",
     "output_type": "stream",
     "text": [
      "#\n",
      "to\n",
      "the\n",
      "for\n",
      "The\n",
      "in\n",
      "a\n",
      "of\n",
      "and\n",
      "Properties\n",
      "sec\n",
      "will\n",
      "be\n",
      "properties\n",
      "Repository\n",
      "secs\n"
     ]
    },
    {
     "data": {
      "text/plain": [
       "[None,\n",
       " None,\n",
       " None,\n",
       " None,\n",
       " None,\n",
       " None,\n",
       " None,\n",
       " None,\n",
       " None,\n",
       " None,\n",
       " None,\n",
       " None,\n",
       " None,\n",
       " None,\n",
       " None,\n",
       " None]"
      ]
     },
     "execution_count": 4,
     "metadata": {},
     "output_type": "execute_result"
    }
   ],
   "source": [
    "[print(k) for k,v in count.items() if v>5]"
   ]
  },
  {
   "cell_type": "markdown",
   "metadata": {},
   "source": [
    "### print all keys where length of key is > 50"
   ]
  },
  {
   "cell_type": "code",
   "execution_count": 5,
   "metadata": {},
   "outputs": [
    {
     "name": "stdout",
     "output_type": "stream",
     "text": [
      "nifi.flow.configuration.archive.dir=./conf/archive/\n",
      "nifi.authorizer.configuration.file=./conf/authorizers.xml\n",
      "nifi.login.identity.provider.configuration.file=./conf/login-identity-providers.xml\n",
      "nifi.documentation.working.directory=./work/docs/components\n",
      "nifi.state.management.configuration.file=./conf/state-management.xml\n",
      "nifi.state.management.provider.local=local-provider\n",
      "nifi.state.management.embedded.zookeeper.start=false\n",
      "nifi.state.management.embedded.zookeeper.properties=./conf/zookeeper.properties\n",
      "nifi.h2.url.append=;LOCK_TIMEOUT=25000;WRITE_DELAY=0;AUTO_SERVER=FALSE\n",
      "nifi.flowfile.repository.implementation=org.apache.nifi.controller.repository.WriteAheadFlowFileRepository\n",
      "nifi.flowfile.repository.wal.implementation=org.apache.nifi.wali.SequentialAccessWriteAheadLog\n",
      "nifi.flowfile.repository.directory=./flowfile_repository\n",
      "nifi.swap.manager.implementation=org.apache.nifi.controller.FileSystemSwapManager\n",
      "nifi.content.repository.implementation=org.apache.nifi.controller.repository.FileSystemRepository\n",
      "nifi.content.repository.directory.default=./content_repository\n",
      "nifi.content.repository.archive.max.retention.period=12\n",
      "nifi.content.repository.archive.max.usage.percentage=50%\n",
      "nifi.provenance.repository.implementation=org.apache.nifi.provenance.PersistentProvenanceRepository\n",
      "nifi.provenance.repository.debug.frequency=1_000_000\n",
      "nifi.provenance.repository.encryption.key.provider.implementation=\n",
      "nifi.provenance.repository.encryption.key.provider.location=\n",
      "nifi.provenance.repository.directory.default=./provenance_repository\n",
      "nifi.provenance.repository.compress.on.rollover=true\n",
      "nifi.provenance.repository.indexed.fields=EventType,\n",
      "nifi.provenance.repository.max.attribute.length=65536\n",
      "nifi.provenance.repository.concurrent.merge.threads=2\n",
      "nifi.components.status.repository.implementation=org.apache.nifi.controller.status.history.VolatileComponentStatusRepository\n",
      "nifi.sensitive.props.algorithm=PBEWITHMD5AND256BITAES-CBC-OPENSSL\n",
      "nifi.security.identity.mapping.pattern.dn=^CN=(.*?),\n",
      "nifi.security.identity.mapping.pattern.kerb=^(.*?)/instance@(.*?)$\n",
      "nifi.security.identity.mapping.transform.kerb=UPPER\n",
      "nifi.security.group.mapping.pattern.anygroup=^(.*)$\n",
      "nifi.security.group.mapping.transform.anygroup=LOWER\n"
     ]
    },
    {
     "data": {
      "text/plain": [
       "[None,\n",
       " None,\n",
       " None,\n",
       " None,\n",
       " None,\n",
       " None,\n",
       " None,\n",
       " None,\n",
       " None,\n",
       " None,\n",
       " None,\n",
       " None,\n",
       " None,\n",
       " None,\n",
       " None,\n",
       " None,\n",
       " None,\n",
       " None,\n",
       " None,\n",
       " None,\n",
       " None,\n",
       " None,\n",
       " None,\n",
       " None,\n",
       " None,\n",
       " None,\n",
       " None,\n",
       " None,\n",
       " None,\n",
       " None,\n",
       " None,\n",
       " None,\n",
       " None]"
      ]
     },
     "execution_count": 5,
     "metadata": {},
     "output_type": "execute_result"
    }
   ],
   "source": [
    "[print(k) for k in count.keys() if len(k)>50]"
   ]
  },
  {
   "cell_type": "code",
   "execution_count": null,
   "metadata": {},
   "outputs": [],
   "source": []
  }
 ],
 "metadata": {
  "kernelspec": {
   "display_name": "Python 3",
   "language": "python",
   "name": "python3"
  },
  "language_info": {
   "codemirror_mode": {
    "name": "ipython",
    "version": 3
   },
   "file_extension": ".py",
   "mimetype": "text/x-python",
   "name": "python",
   "nbconvert_exporter": "python",
   "pygments_lexer": "ipython3",
   "version": "3.7.6"
  }
 },
 "nbformat": 4,
 "nbformat_minor": 4
}
