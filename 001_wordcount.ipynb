{
 "cells": [
  {
   "cell_type": "code",
   "execution_count": 4,
   "metadata": {},
   "outputs": [
    {
     "name": "stdout",
     "output_type": "stream",
     "text": [
      "{'{': 18, '\"cells\":': 1, '[': 16, '\"cell_type\":': 6, '\"code\",': 6, '\"execution_count\":': 8, '12,': 4, '\"metadata\":': 9, '{},': 8, '\"outputs\":': 6, '\"name\":': 6, '\"stdout\",': 3, '\"output_type\":': 5, '\"stream\",': 3, '\"text\":': 3, '\"[0,': 5, '8,': 6, '16,': 5, '24,': 4, '32,': 5, '40,': 3, '48,': 4, '56,': 3, '64,': 4, '72]\\\\n\",': 2, '4,': 4, '20,': 1, '28,': 1, '36]\\\\n\",': 1, '80,': 1, '96,': 1, '112,': 1, '128,': 1, '144]\\\\n\",': 1, '72]\\\\n\"': 1, ']': 10, '}': 8, '],': 6, '\"source\":': 6, '\"def': 3, 'f1(x):\\\\n\",': 1, '\"': 9, 'return': 2, 'x*2\\\\n\",': 1, 'f2(x):\\\\n\",': 1, 'x*4\\\\n\",': 1, '\"\\\\n\",': 14, '\"lst=[]\\\\n\",': 1, '\"for': 3, 'i': 6, 'in': 13, 'range(10):\\\\n\",': 1, 'lst.append(f1(f2(i)))\\\\n\",': 1, '\"print(lst)\\\\n\",': 1, '\"print([f2(j)': 1, 'for': 9, 'j': 4, 'range(10)])\\\\n\",': 1, '\"print([f1(i)': 3, 'range(100)': 1, 'if': 2, '[f2(j)': 2, 'range(10)]])\\\\n\",': 1, 'lst])\\\\n\",': 1, 'range(10)]])\"': 1, '},': 10, '13,': 2, '\"data\":': 2, '\"text/plain\":': 2, '\"[4,': 1, '5,': 1, '6,': 3, '10,': 1, '15,': 3, '18]\"': 1, '\"execute_result\"': 2, '\"list1=[[1,2,3],[4,5,6]]\\\\n\",': 1, '\"[i*j': 1, 'list1[0]': 1, 'list1[1]]\"': 1, '\"[[\\'here\\',': 1, '4],': 1, \"['is',\": 1, '2],': 1, \"['a',\": 1, '1],': 1, \"['sentnce',\": 1, '7]]\"': 1, '\"words': 1, '=': 3, \"'here\": 1, 'is': 2, 'a': 1, 'sentnce\\'.split()\\\\n\",': 1, '\"[[word,': 1, 'len(word)]': 1, 'word': 1, 'words]\"': 1, '\"[1,': 1, '2,': 1, '3,': 1, '5]\\\\n\",': 1, '\"[2,': 2, '10]\\\\n\",': 1, '4]\\\\n\"': 1, '\"list2': 1, '[1,2,3,4,5]\\\\n\",': 1, '\"print(list2)\\\\n\",': 1, '\"list3': 1, '[]\\\\n\",': 1, 'item': 2, 'map(lambda': 1, 'n:': 2, 'n*2,': 1, 'list2):\\\\n\",': 2, 'list3.append(item)\\\\n\",': 1, '\"print(list3)\\\\n\",': 1, '\"list4=[]\\\\n\",': 1, 'filter(lambda': 1, 'n%2==0,': 1, 'list4.append(item)\\\\n\",': 1, '\\\\n\",': 1, '\"print(list4)\\\\n\",': 1, '\"\\\\n\"': 1, '11,': 1, '\"1\\\\n\",': 1, '\"2\\\\n\",': 1, '\"3\\\\n\",': 1, '\"4\\\\n\",': 1, '\"5\\\\n\",': 1, '\"6\\\\n\",': 1, '\"7\\\\n\",': 1, '\"8\\\\n\",': 1, '\"9\\\\n\",': 1, '\"10\\\\n\"': 1, '\"#recursive': 1, 'function\\\\n\",': 3, '\"##': 1, 'recursive': 2, '\"###this': 1, 'recurtest(low,high):\\\\n\",': 1, 'low<=high:\\\\n\",': 1, 'print(low)\\\\n\",': 1, 'recurtest(low+1,high)\\\\n\",': 1, '\"recurtest(1,10)\"': 1, 'null,': 1, '[],': 1, '[]': 1, '\"kernelspec\":': 1, '\"display_name\":': 1, '\"Python': 1, '3\",': 1, '\"language\":': 1, '\"python\",': 3, '\"python3\"': 1, '\"language_info\":': 1, '\"codemirror_mode\":': 1, '\"ipython\",': 1, '\"version\":': 2, '3': 1, '\"file_extension\":': 1, '\".py\",': 1, '\"mimetype\":': 1, '\"text/x-python\",': 1, '\"nbconvert_exporter\":': 1, '\"pygments_lexer\":': 1, '\"ipython3\",': 1, '\"3.7.6\"': 1, '\"nbformat\":': 1, '\"nbformat_minor\":': 1, '4': 1}\n"
     ]
    }
   ],
   "source": [
    "def wordcount(fname):\n",
    "    try:\n",
    "        fhand=open(fname)\n",
    "    except:\n",
    "        print('File cannot be opened')\n",
    "        exit()\n",
    "    count=dict()\n",
    "    for line in fhand:\n",
    "        words = line.split()\n",
    "        for word in words:\n",
    "            if word not in count:\n",
    "                count[word] = 1\n",
    "            else:\n",
    "                count[word] += 1\n",
    "    return count\n",
    "    \n",
    "        \n",
    "print(wordcount(\"/Users/jayeshpatel/data/jupiter/jupiter/First.ipynb\"))\n"
   ]
  },
  {
   "cell_type": "code",
   "execution_count": null,
   "metadata": {},
   "outputs": [],
   "source": []
  }
 ],
 "metadata": {
  "kernelspec": {
   "display_name": "Python 3",
   "language": "python",
   "name": "python3"
  },
  "language_info": {
   "codemirror_mode": {
    "name": "ipython",
    "version": 3
   },
   "file_extension": ".py",
   "mimetype": "text/x-python",
   "name": "python",
   "nbconvert_exporter": "python",
   "pygments_lexer": "ipython3",
   "version": "3.7.6"
  }
 },
 "nbformat": 4,
 "nbformat_minor": 4
}
