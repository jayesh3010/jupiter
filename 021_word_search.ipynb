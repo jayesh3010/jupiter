{
 "cells": [
  {
   "cell_type": "markdown",
   "metadata": {},
   "source": [
    "https://leetcode.com/problems/word-search/"
   ]
  },
  {
   "cell_type": "code",
   "execution_count": 1,
   "metadata": {},
   "outputs": [],
   "source": [
    "from typing import List\n",
    "class Solution:\n",
    "    def exist(self, board: List[List[str]], word: str) -> bool:\n",
    "        flag = False\n",
    "        for i in range(len(board)):\n",
    "            for j in range(len(board[0])):\n",
    "                if word[0] == board[i][j]:\n",
    "                    if self.dfs(board, i, j, 0, word):\n",
    "                        # print(board)\n",
    "                        flag = True\n",
    "                        break\n",
    "            if flag:\n",
    "                break\n",
    "        return flag\n",
    "\n",
    "    def dfs(self, board: List[List[str]], i: int, j: int, index: int, word: str) -> bool:\n",
    "\n",
    "        # print(board,i,j,index)\n",
    "\n",
    "        if index == len(word) - 1 and word[index] == board[i][j]:\n",
    "            return True\n",
    "\n",
    "        flag = False\n",
    "        if word[index] == board[i][j]:\n",
    "            temp = board[i][j]\n",
    "            board[i][j] = \"~\"\n",
    "            if i > 0:\n",
    "                flag = flag or self.dfs(board, i - 1, j, index + 1, word)\n",
    "\n",
    "            if i < len(board) - 1:\n",
    "                flag = flag or self.dfs(board, i + 1, j, index + 1, word)\n",
    "\n",
    "            if j > 0:\n",
    "                flag = flag or self.dfs(board, i, j - 1, index + 1, word)\n",
    "\n",
    "            if j < len(board[0]) - 1:\n",
    "                flag = flag or self.dfs(board, i, j + 1, index + 1, word)\n",
    "\n",
    "            board[i][j] = temp\n",
    "        return flag\n",
    "            \n",
    "            \n",
    "        \n",
    "        \n",
    "    "
   ]
  },
  {
   "cell_type": "code",
   "execution_count": 2,
   "metadata": {},
   "outputs": [
    {
     "name": "stdout",
     "output_type": "stream",
     "text": [
      "True\n"
     ]
    }
   ],
   "source": [
    "s = Solution()\n",
    "print(s.exist([[\"A\",\"B\",\"C\",\"E\"],\n",
    "               [\"S\",\"F\",\"C\",\"S\"],\n",
    "               [\"A\",\"D\",\"E\",\"E\"]],\"ABCCED\"))\n",
    "\n",
    "#print(s.exist([[\"A\",\"S\",\"A\",\"D\"],\n",
    "#               [\"S\",\"F\",\"C\",\"S\"],\n",
    "#               [\"A\",\"D\",\"E\",\"E\"]],\"ASADF\"))"
   ]
  },
  {
   "cell_type": "code",
   "execution_count": null,
   "metadata": {},
   "outputs": [],
   "source": []
  }
 ],
 "metadata": {
  "kernelspec": {
   "display_name": "Python 3",
   "language": "python",
   "name": "python3"
  },
  "language_info": {
   "codemirror_mode": {
    "name": "ipython",
    "version": 3
   },
   "file_extension": ".py",
   "mimetype": "text/x-python",
   "name": "python",
   "nbconvert_exporter": "python",
   "pygments_lexer": "ipython3",
   "version": "3.8.3"
  }
 },
 "nbformat": 4,
 "nbformat_minor": 4
}
