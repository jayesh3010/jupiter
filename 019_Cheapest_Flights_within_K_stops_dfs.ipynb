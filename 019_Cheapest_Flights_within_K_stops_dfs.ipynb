{
 "cells": [
  {
   "cell_type": "code",
   "execution_count": 2,
   "metadata": {},
   "outputs": [],
   "source": [
    "from collections import defaultdict\n",
    "from typing import List\n",
    "import sys\n",
    "class Solution:\n",
    "    def __init__(self):\n",
    "        self.minprice = sys.maxsize\n",
    "    def findCheapestPrice(self, n: int, flights: List[List[int]], src: int, dst: int, K: int) -> int:\n",
    "        graph = defaultdict(list)\n",
    "        for flight in flights:\n",
    "            graph[flight[0]].append([flight[1],flight[2]])\n",
    "            \n",
    "        #print(graph)\n",
    "        \n",
    "        self.dfs(graph,src,dst,K+1,0)\n",
    "        \n",
    "        return self.minprice if self.minprice < sys.maxsize else -1\n",
    "    \n",
    "    def dfs(self,graph:defaultdict,src:int,dst:int,K:int,currentprice:int):\n",
    "        \n",
    "        if K < 0:\n",
    "            return\n",
    "        \n",
    "        if src == dst:\n",
    "            if self.minprice > currentprice:\n",
    "                self.minprice = currentprice\n",
    "        \n",
    "        if src not in graph:\n",
    "            return\n",
    "        \n",
    "        for stops in graph[src]:\n",
    "            if stops[1] + currentprice > self.minprice:\n",
    "                continue              #pruning\n",
    "            self.dfs(graph,stops[0],dst,K-1,stops[1]+currentprice)\n",
    "        \n",
    "        return"
   ]
  },
  {
   "cell_type": "code",
   "execution_count": 8,
   "metadata": {},
   "outputs": [
    {
     "name": "stdout",
     "output_type": "stream",
     "text": [
      "200\n"
     ]
    }
   ],
   "source": [
    "s = Solution()\n",
    "print(s.findCheapestPrice(3,[[0,1,100],[1,2,100],[0,2,500]],0,2,2))\n",
    "#print(s.findCheapestPrice(4,[[0,1,1],[1,2,1],[2,3,1],[0,2,100]],0,3,1))"
   ]
  }
 ],
 "metadata": {
  "kernelspec": {
   "display_name": "Python 3",
   "language": "python",
   "name": "python3"
  },
  "language_info": {
   "codemirror_mode": {
    "name": "ipython",
    "version": 3
   },
   "file_extension": ".py",
   "mimetype": "text/x-python",
   "name": "python",
   "nbconvert_exporter": "python",
   "pygments_lexer": "ipython3",
   "version": "3.7.6"
  }
 },
 "nbformat": 4,
 "nbformat_minor": 4
}
