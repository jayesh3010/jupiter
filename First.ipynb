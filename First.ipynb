{
 "cells": [
  {
   "cell_type": "code",
   "execution_count": 12,
   "metadata": {},
   "outputs": [
    {
     "name": "stdout",
     "output_type": "stream",
     "text": [
      "[0, 8, 16, 24, 32, 40, 48, 56, 64, 72]\n",
      "[0, 4, 8, 12, 16, 20, 24, 28, 32, 36]\n",
      "[0, 8, 16, 24, 32, 40, 48, 56, 64, 72]\n",
      "[0, 16, 32, 48, 64, 80, 96, 112, 128, 144]\n",
      "[0, 8, 16, 24, 32, 40, 48, 56, 64, 72]\n"
     ]
    }
   ],
   "source": [
    "def f1(x):\n",
    "    return x*2\n",
    "def f2(x):\n",
    "    return x*4\n",
    "\n",
    "lst=[]\n",
    "for i in range(10):\n",
    "    lst.append(f1(f2(i)))\n",
    "\n",
    "print(lst)\n",
    "\n",
    "print([f2(j) for j in range(10)])\n",
    "\n",
    "print([f1(i) for i in range(100) if i in [f2(j) for j in range(10)]])\n",
    "\n",
    "print([f1(i) for i in lst])\n",
    "\n",
    "print([f1(i) for i in [f2(j) for j in range(10)]])"
   ]
  },
  {
   "cell_type": "code",
   "execution_count": 13,
   "metadata": {},
   "outputs": [
    {
     "data": {
      "text/plain": [
       "[4, 5, 6, 8, 10, 12, 12, 15, 18]"
      ]
     },
     "execution_count": 13,
     "metadata": {},
     "output_type": "execute_result"
    }
   ],
   "source": [
    "list1=[[1,2,3],[4,5,6]]\n",
    "\n",
    "[i*j for i in list1[0] for j in list1[1]]"
   ]
  },
  {
   "cell_type": "code",
   "execution_count": 15,
   "metadata": {},
   "outputs": [
    {
     "data": {
      "text/plain": [
       "[['here', 4], ['is', 2], ['a', 1], ['sentnce', 7]]"
      ]
     },
     "execution_count": 15,
     "metadata": {},
     "output_type": "execute_result"
    }
   ],
   "source": [
    "words = 'here is a sentnce'.split()\n",
    "\n",
    "[[word, len(word)] for word in words]"
   ]
  },
  {
   "cell_type": "code",
   "execution_count": 6,
   "metadata": {},
   "outputs": [
    {
     "name": "stdout",
     "output_type": "stream",
     "text": [
      "[1, 2, 3, 4, 5]\n",
      "[2, 4, 6, 8, 10]\n",
      "[2, 4]\n"
     ]
    }
   ],
   "source": [
    "list2 = [1,2,3,4,5]\n",
    "print(list2)\n",
    "\n",
    "list3 = []\n",
    "for item in map(lambda n: n*2, list2):\n",
    "    list3.append(item)\n",
    "\n",
    "print(list3)\n",
    "\n",
    "list4=[]\n",
    "for item in filter(lambda n: n%2==0, list2):\n",
    "    list4.append(item)\n",
    "    \n",
    "print(list4)\n",
    "\n"
   ]
  },
  {
   "cell_type": "code",
   "execution_count": 11,
   "metadata": {},
   "outputs": [
    {
     "name": "stdout",
     "output_type": "stream",
     "text": [
      "1\n",
      "2\n",
      "3\n",
      "4\n",
      "5\n",
      "6\n",
      "7\n",
      "8\n",
      "9\n",
      "10\n"
     ]
    }
   ],
   "source": [
    "#recursive function\n",
    "## recursive function\n",
    "###this is recursive function\n",
    "\n",
    "\n",
    "def recurtest(low,high):\n",
    "    if low<=high:\n",
    "        print(low)\n",
    "        recurtest(low+1,high)\n",
    "\n",
    "recurtest(1,10)"
   ]
  },
  {
   "cell_type": "code",
   "execution_count": null,
   "metadata": {},
   "outputs": [],
   "source": []
  }
 ],
 "metadata": {
  "kernelspec": {
   "display_name": "Python 3",
   "language": "python",
   "name": "python3"
  },
  "language_info": {
   "codemirror_mode": {
    "name": "ipython",
    "version": 3
   },
   "file_extension": ".py",
   "mimetype": "text/x-python",
   "name": "python",
   "nbconvert_exporter": "python",
   "pygments_lexer": "ipython3",
   "version": "3.7.6"
  }
 },
 "nbformat": 4,
 "nbformat_minor": 4
}
