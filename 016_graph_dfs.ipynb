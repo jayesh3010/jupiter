{
 "cells": [
  {
   "cell_type": "code",
   "execution_count": 6,
   "metadata": {},
   "outputs": [],
   "source": [
    "graph = dict() \n",
    "graph['A'] = ['B', 'G', 'D'] \n",
    "graph['B'] = ['A', 'F', 'E'] \n",
    "graph['C'] = ['F', 'H'] \n",
    "graph['D'] = ['F', 'A'] \n",
    "graph['E'] = ['B', 'G'] \n",
    "graph['F'] = ['B', 'D', 'C'] \n",
    "graph['G'] = ['A', 'E'] \n",
    "graph['H'] = ['C'] "
   ]
  },
  {
   "cell_type": "code",
   "execution_count": 7,
   "metadata": {},
   "outputs": [],
   "source": [
    "def depth_first_search(graph, root):\n",
    "    visited_vertices = []\n",
    "    stack = []\n",
    "    visited_vertices.append(root)\n",
    "    stack.append(root)\n",
    "    \n",
    "    while len(stack) > 0:\n",
    "        print(stack.pop())"
   ]
  },
  {
   "cell_type": "code",
   "execution_count": 8,
   "metadata": {},
   "outputs": [
    {
     "name": "stdout",
     "output_type": "stream",
     "text": [
      "A\n"
     ]
    }
   ],
   "source": [
    "depth_first_search(graph,'A')"
   ]
  },
  {
   "cell_type": "code",
   "execution_count": null,
   "metadata": {},
   "outputs": [],
   "source": []
  }
 ],
 "metadata": {
  "kernelspec": {
   "display_name": "Python 3",
   "language": "python",
   "name": "python3"
  },
  "language_info": {
   "codemirror_mode": {
    "name": "ipython",
    "version": 3
   },
   "file_extension": ".py",
   "mimetype": "text/x-python",
   "name": "python",
   "nbconvert_exporter": "python",
   "pygments_lexer": "ipython3",
   "version": "3.7.6"
  }
 },
 "nbformat": 4,
 "nbformat_minor": 4
}
