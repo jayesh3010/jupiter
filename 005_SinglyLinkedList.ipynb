{
 "cells": [
  {
   "cell_type": "code",
   "execution_count": 57,
   "metadata": {},
   "outputs": [],
   "source": [
    "class Node:\n",
    "    def __init__(self,data=None):\n",
    "        self.data = data\n",
    "        self.next = None\n",
    "        \n",
    "    \n",
    "    def __str__(self):\n",
    "        return str(self.data)\n",
    "\n",
    "class SinglyLinkedList:\n",
    "    def __init__(self):\n",
    "        self.tail = None\n",
    "        self.head = None\n",
    "        self.count = 0\n",
    "    \n",
    "    def __str__(self):\n",
    "        output = 'count: ' + str(self.count) + ' :: '\n",
    "        current = self.tail\n",
    "        while current:\n",
    "            output = output + str(current) + ' -> '\n",
    "            current = current.next\n",
    "        return output\n",
    "    \n",
    "    def iter(self):\n",
    "        current = self.tail\n",
    "        while current:\n",
    "            val = current.data\n",
    "            current = current.next\n",
    "            yield val\n",
    "    \n",
    "    '''\n",
    "    def append(self,data):\n",
    "        node = Node(data)\n",
    "        if self.tail == None:\n",
    "            self.tail = node\n",
    "        else:\n",
    "            current = self.tail\n",
    "            while current.next:\n",
    "                current = current.next\n",
    "            current.next = node\n",
    "    '''\n",
    "    \n",
    "    #append method for faster instert\n",
    "    def append(self, data):\n",
    "        node = Node(data)\n",
    "        print(node)\n",
    "        if self.head==None:\n",
    "            self.tail = self.head = node\n",
    "            \n",
    "        else:\n",
    "            self.head.next = node\n",
    "            self.head = node\n",
    "        self.count += 1\n",
    "        \n",
    "        \n",
    "    def printSinglyLinkeList(self):\n",
    "        current = self.tail\n",
    "        while current:\n",
    "            print(current)\n",
    "            current = current.next\n",
    "            \n",
    "        "
   ]
  },
  {
   "cell_type": "code",
   "execution_count": 58,
   "metadata": {},
   "outputs": [
    {
     "name": "stdout",
     "output_type": "stream",
     "text": [
      "one\n",
      "two\n",
      "three\n",
      "count: 3 :: one -> two -> three -> \n"
     ]
    }
   ],
   "source": [
    "s = SinglyLinkedList()\n",
    "s.append(\"one\")\n",
    "s.append(\"two\")\n",
    "s.append(\"three\")\n",
    "#s.printSinglyLinkeList()\n",
    "print(s)"
   ]
  },
  {
   "cell_type": "code",
   "execution_count": 59,
   "metadata": {},
   "outputs": [
    {
     "name": "stdout",
     "output_type": "stream",
     "text": [
      "1\n",
      "2\n",
      "3\n",
      "1\n",
      "2\n",
      "3\n",
      "count: 3 :: 1 -> 2 -> 3 -> \n",
      "one\n",
      "two\n",
      "three\n",
      "1\n",
      "2\n",
      "3\n"
     ]
    }
   ],
   "source": [
    "\n",
    "s1 = SinglyLinkedList()\n",
    "s1.append(1)\n",
    "s1.append(2)\n",
    "s1.append(3)\n",
    "s1.printSinglyLinkeList()\n",
    "print(s1)\n",
    "\n",
    "for obj in s.iter():\n",
    "    print(obj)\n",
    "\n",
    "for obj in s1.iter():\n",
    "    print(obj)\n"
   ]
  },
  {
   "cell_type": "code",
   "execution_count": null,
   "metadata": {},
   "outputs": [],
   "source": []
  }
 ],
 "metadata": {
  "kernelspec": {
   "display_name": "Python 3",
   "language": "python",
   "name": "python3"
  },
  "language_info": {
   "codemirror_mode": {
    "name": "ipython",
    "version": 3
   },
   "file_extension": ".py",
   "mimetype": "text/x-python",
   "name": "python",
   "nbconvert_exporter": "python",
   "pygments_lexer": "ipython3",
   "version": "3.7.6"
  }
 },
 "nbformat": 4,
 "nbformat_minor": 4
}
