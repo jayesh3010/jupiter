{
 "cells": [
  {
   "cell_type": "code",
   "execution_count": 1,
   "metadata": {},
   "outputs": [],
   "source": [
    "class Node:\n",
    "    def __init__(self,data=None):\n",
    "        self.data = data\n",
    "        self.left = None\n",
    "        self.right = None\n",
    "   "
   ]
  },
  {
   "cell_type": "code",
   "execution_count": 2,
   "metadata": {},
   "outputs": [],
   "source": [
    "\n",
    "n1 = Node(1)\n",
    "n2 = Node(2)\n",
    "n3 = Node(3)\n",
    "n4 = Node(4)\n",
    "n5 = Node(5)\n",
    "n6 = Node(6)\n",
    "n7 = Node(7)\n",
    "n8 = Node(8)\n",
    "n9 = Node(9)\n",
    "n10 = Node(10)\n",
    "n11 = Node(11)\n",
    "n12 = Node(12)\n",
    "\n",
    "\n",
    "\n",
    "n1.left = n2\n",
    "n1.right = n3\n",
    "n2.left = n4\n",
    "n2.right = n5\n",
    "n3.left = n6\n",
    "n3.right = n7\n",
    "n4.left = n8\n",
    "n5.left = n9\n",
    "n5.right = n10\n",
    "n6.right = n11\n",
    "n7.left = n12\n",
    "\n"
   ]
  },
  {
   "cell_type": "code",
   "execution_count": 5,
   "metadata": {},
   "outputs": [
    {
     "name": "stdout",
     "output_type": "stream",
     "text": [
      "8\n",
      "4\n",
      "2\n",
      "9\n",
      "5\n",
      "10\n",
      "1\n",
      "6\n",
      "11\n",
      "3\n",
      "12\n",
      "7\n"
     ]
    }
   ],
   "source": [
    "def df_inorder_traverse(root):\n",
    "    if root is None:\n",
    "        return\n",
    "    df_inorder_traverse(root.left)\n",
    "    print(root.data)\n",
    "    df_inorder_traverse(root.right)\n",
    "    \n",
    "df_inorder_traverse(n1)"
   ]
  },
  {
   "cell_type": "code",
   "execution_count": 6,
   "metadata": {},
   "outputs": [
    {
     "name": "stdout",
     "output_type": "stream",
     "text": [
      "1\n",
      "2\n",
      "4\n",
      "8\n",
      "5\n",
      "9\n",
      "10\n",
      "3\n",
      "6\n",
      "11\n",
      "7\n",
      "12\n"
     ]
    }
   ],
   "source": [
    "def df_preorder_traverse(root):\n",
    "    if root is None:\n",
    "        return\n",
    "    else:\n",
    "        print(root.data)\n",
    "        df_preorder_traverse(root.left)\n",
    "        df_preorder_traverse(root.right)\n",
    "\n",
    "df_preorder_traverse(n1)"
   ]
  },
  {
   "cell_type": "code",
   "execution_count": 7,
   "metadata": {},
   "outputs": [
    {
     "name": "stdout",
     "output_type": "stream",
     "text": [
      "8\n",
      "4\n",
      "9\n",
      "10\n",
      "5\n",
      "2\n",
      "11\n",
      "6\n",
      "12\n",
      "7\n",
      "3\n",
      "1\n"
     ]
    }
   ],
   "source": [
    "def df_postorder_traverse(root):\n",
    "    if root is None:\n",
    "        return\n",
    "    else:\n",
    "        \n",
    "        df_postorder_traverse(root.left)\n",
    "        df_postorder_traverse(root.right)\n",
    "        \n",
    "        print(root.data)\n",
    "\n",
    "df_postorder_traverse(n1)"
   ]
  },
  {
   "cell_type": "code",
   "execution_count": null,
   "metadata": {},
   "outputs": [],
   "source": []
  }
 ],
 "metadata": {
  "kernelspec": {
   "display_name": "Python 3",
   "language": "python",
   "name": "python3"
  },
  "language_info": {
   "codemirror_mode": {
    "name": "ipython",
    "version": 3
   },
   "file_extension": ".py",
   "mimetype": "text/x-python",
   "name": "python",
   "nbconvert_exporter": "python",
   "pygments_lexer": "ipython3",
   "version": "3.7.6"
  }
 },
 "nbformat": 4,
 "nbformat_minor": 4
}
