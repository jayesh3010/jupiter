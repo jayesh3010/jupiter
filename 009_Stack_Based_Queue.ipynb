{
 "cells": [
  {
   "cell_type": "code",
   "execution_count": 5,
   "metadata": {},
   "outputs": [],
   "source": [
    "class StackQueue:\n",
    "    def __init__(self):\n",
    "        self.inbound_stack = []\n",
    "        self.outbound_stack = []\n",
    "\n",
    "    def enqueue(self,data):\n",
    "        self.inbound_stack.append(data)\n",
    "    \n",
    "    def dequeue(self):\n",
    "        if not self.outbound_stack:\n",
    "            while self.inbound_stack:\n",
    "                self.outbound_stack.append(self.inbound_stack.pop())\n",
    "        \n",
    "        return self.outbound_stack.pop()\n",
    "    \n",
    "            "
   ]
  },
  {
   "cell_type": "code",
   "execution_count": 10,
   "metadata": {},
   "outputs": [
    {
     "name": "stdout",
     "output_type": "stream",
     "text": [
      "[1, 2, 3, 4]\n",
      "1\n",
      "2\n",
      "[4, 3]\n",
      "[5, 6, 7, 8, 4, 3]\n",
      "3\n",
      "4\n",
      "5\n",
      "6\n",
      "7\n",
      "8\n"
     ]
    }
   ],
   "source": [
    "stackqueue = StackQueue()\n",
    "stackqueue.enqueue(1)\n",
    "stackqueue.enqueue(2)\n",
    "stackqueue.enqueue(3)\n",
    "stackqueue.enqueue(4)\n",
    "\n",
    "print(stackqueue.inbound_stack + stackqueue.outbound_stack)\n",
    "print(stackqueue.dequeue())\n",
    "print(stackqueue.dequeue())\n",
    "\n",
    "print(stackqueue.inbound_stack + stackqueue.outbound_stack)\n",
    "\n",
    "\n",
    "stackqueue.enqueue(5)\n",
    "stackqueue.enqueue(6)\n",
    "stackqueue.enqueue(7)\n",
    "stackqueue.enqueue(8)\n",
    "\n",
    "print(stackqueue.inbound_stack + stackqueue.outbound_stack)\n",
    "\n",
    "\n",
    "print(stackqueue.dequeue())\n",
    "print(stackqueue.dequeue())\n",
    "\n",
    "print(stackqueue.dequeue())\n",
    "print(stackqueue.dequeue())\n",
    "\n",
    "print(stackqueue.dequeue())\n",
    "print(stackqueue.dequeue())\n",
    "\n"
   ]
  },
  {
   "cell_type": "code",
   "execution_count": null,
   "metadata": {},
   "outputs": [],
   "source": []
  },
  {
   "cell_type": "code",
   "execution_count": null,
   "metadata": {},
   "outputs": [],
   "source": []
  }
 ],
 "metadata": {
  "kernelspec": {
   "display_name": "Python 3",
   "language": "python",
   "name": "python3"
  },
  "language_info": {
   "codemirror_mode": {
    "name": "ipython",
    "version": 3
   },
   "file_extension": ".py",
   "mimetype": "text/x-python",
   "name": "python",
   "nbconvert_exporter": "python",
   "pygments_lexer": "ipython3",
   "version": "3.7.6"
  }
 },
 "nbformat": 4,
 "nbformat_minor": 4
}
