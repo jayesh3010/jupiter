{
 "cells": [
  {
   "cell_type": "markdown",
   "metadata": {},
   "source": [
    "#### Graph representation\n",
    "\n",
    "Adjacency lists"
   ]
  },
  {
   "cell_type": "code",
   "execution_count": 1,
   "metadata": {},
   "outputs": [],
   "source": [
    "graph = dict()\n",
    "graph['A'] = ['B','C']\n",
    "graph['B'] = ['E','C','A']\n",
    "graph['C'] = ['A','B','E','F']\n",
    "graph['E'] = ['B','C']\n",
    "graph['F'] = ['C']"
   ]
  },
  {
   "cell_type": "markdown",
   "metadata": {},
   "source": [
    "Adjacency matrices"
   ]
  },
  {
   "cell_type": "code",
   "execution_count": 2,
   "metadata": {},
   "outputs": [
    {
     "data": {
      "text/plain": [
       "[[0, 1, 1, 0, 0],\n",
       " [1, 0, 1, 1, 0],\n",
       " [1, 1, 0, 1, 1],\n",
       " [0, 1, 1, 0, 0],\n",
       " [0, 0, 1, 0, 0]]"
      ]
     },
     "execution_count": 2,
     "metadata": {},
     "output_type": "execute_result"
    }
   ],
   "source": [
    "matrix_elements = sorted(graph.keys())\n",
    "\n",
    "cols = rows = len(matrix_elements)\n",
    "\n",
    "#initialize adjacency matrix with 0\n",
    "adjacency_matrix = []\n",
    "for x in range(rows):\n",
    "    l = []\n",
    "    for y in range(cols):\n",
    "        l.append(0)\n",
    "    adjacency_matrix.append(l)\n",
    "\n",
    "adjacency_matrix\n",
    "\n",
    "\n",
    "for key,val in graph.items():\n",
    "    i = matrix_elements.index(key)\n",
    "    for v in val:\n",
    "        j = matrix_elements.index(v)\n",
    "        adjacency_matrix[i][j] = 1\n",
    "\n",
    "\n",
    "adjacency_matrix  \n"
   ]
  },
  {
   "cell_type": "markdown",
   "metadata": {},
   "source": [
    "#algorithm\n",
    "\n",
    "bfs(root)\n",
    "    queue\n",
    "    visited\n",
    "    \n",
    "    queue.enqueu(root)\n",
    "    visited.append(root)\n",
    "    \n",
    "    while queue is not empty\n",
    "        actual = queue.dequeue()\n",
    "        \n",
    "        for vertices in actual neighbours\n",
    "            if vertices is not in visited\n",
    "                queue.enqueu(vertices)\n",
    "                visted.append(vertices)\n",
    "                "
   ]
  },
  {
   "cell_type": "code",
   "execution_count": 13,
   "metadata": {},
   "outputs": [
    {
     "name": "stdout",
     "output_type": "stream",
     "text": [
      "deque(['A'])\n",
      "['A']\n",
      "deque(['B', 'C'])\n",
      "['A', 'B', 'C']\n",
      "deque(['E', 'F'])\n",
      "['A', 'B', 'C', 'E', 'F']\n",
      "['A', 'B', 'C', 'E', 'F']\n"
     ]
    }
   ],
   "source": [
    "from collections import deque\n",
    "def bfs(root):\n",
    "    visited = []\n",
    "    dq = deque()\n",
    "    \n",
    "    dq.append(root)\n",
    "    visited.append(root)\n",
    "\n",
    "    while len(dq) > 0:\n",
    "        \n",
    "        print(dq)\n",
    "        print(visited)\n",
    "        \n",
    "        size = len(dq)\n",
    "        \n",
    "        for _ in range(size):\n",
    "                \n",
    "            node = dq.popleft()\n",
    "        \n",
    "            for nodes in graph[node]:\n",
    "                if nodes not in visited:\n",
    "                    visited.append(nodes)\n",
    "                    dq.append(nodes)\n",
    "    print(visited)\n",
    "\n",
    "bfs('A')\n",
    "    \n",
    "    "
   ]
  },
  {
   "cell_type": "markdown",
   "metadata": {},
   "source": [
    "\n",
    "#dfs using recursion\n",
    "\n",
    "dfs(vertex)\n",
    "    \n",
    "    vertex set visted true\n",
    "    print vertex\n",
    "    \n",
    "    for v in vertex neighbours\n",
    "        if v not visited\n",
    "            dfs(v)\n",
    " \n"
   ]
  },
  {
   "cell_type": "code",
   "execution_count": 16,
   "metadata": {},
   "outputs": [
    {
     "name": "stdout",
     "output_type": "stream",
     "text": [
      "['A', 'B', 'E', 'C', 'F']\n"
     ]
    }
   ],
   "source": [
    "\n",
    "visited = []\n",
    "\n",
    "def dfs_recur(root):\n",
    "    \n",
    "    visited.append(root)\n",
    "    #print(root)\n",
    "    \n",
    "    for node in graph[root]:\n",
    "        if node not in visited:\n",
    "            dfs_recur(node)\n",
    "    \n",
    "    #print(visited)\n",
    "\n",
    "dfs_recur('A')\n",
    "print(visited)"
   ]
  },
  {
   "cell_type": "markdown",
   "metadata": {},
   "source": [
    "#dfs using stack\n",
    "\n",
    "dfs_stack(root)\n",
    "    stack\n",
    "    stack.push(root)\n",
    "    visited\n",
    "    \n",
    "    while stack.size > 0\n",
    "        \n",
    "        actual = stack.pop\n",
    "        visited.append(actual)\n",
    "        \n",
    "        for v in actual neighbours\n",
    "            if v not in visited\n",
    "                stack.push(v)\n",
    "      "
   ]
  },
  {
   "cell_type": "code",
   "execution_count": 19,
   "metadata": {},
   "outputs": [
    {
     "name": "stdout",
     "output_type": "stream",
     "text": [
      "deque(['A']) ['A']\n",
      "deque(['B', 'C']) ['A', 'B', 'C']\n",
      "deque(['B', 'E', 'F']) ['A', 'B', 'C', 'E', 'F']\n",
      "deque(['B', 'E']) ['A', 'B', 'C', 'E', 'F']\n",
      "deque(['B']) ['A', 'B', 'C', 'E', 'F']\n",
      "['A', 'B', 'C', 'E', 'F']\n"
     ]
    }
   ],
   "source": [
    "\n",
    "def dfs_stack(root):\n",
    "    dq = deque()\n",
    "    dq.append(root)\n",
    "    visited = []\n",
    "    visited.append(root)\n",
    "    \n",
    "    while len(dq) > 0:\n",
    "        print(dq,visited)\n",
    "        actual = dq.pop()\n",
    "\n",
    "        for v in graph[actual]:\n",
    "            if v not in visited:\n",
    "                visited.append(v)\n",
    "                dq.append(v)\n",
    "    \n",
    "    print(visited)\n",
    "\n",
    "dfs_stack('A')"
   ]
  },
  {
   "cell_type": "code",
   "execution_count": null,
   "metadata": {},
   "outputs": [],
   "source": []
  }
 ],
 "metadata": {
  "kernelspec": {
   "display_name": "Python 3",
   "language": "python",
   "name": "python3"
  },
  "language_info": {
   "codemirror_mode": {
    "name": "ipython",
    "version": 3
   },
   "file_extension": ".py",
   "mimetype": "text/x-python",
   "name": "python",
   "nbconvert_exporter": "python",
   "pygments_lexer": "ipython3",
   "version": "3.7.6"
  }
 },
 "nbformat": 4,
 "nbformat_minor": 4
}
