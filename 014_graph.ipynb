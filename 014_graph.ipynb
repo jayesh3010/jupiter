{
 "cells": [
  {
   "cell_type": "markdown",
   "metadata": {},
   "source": [
    "#### Graph representation\n",
    "\n",
    "Adjacency lists"
   ]
  },
  {
   "cell_type": "code",
   "execution_count": 5,
   "metadata": {},
   "outputs": [],
   "source": [
    "graph = dict()\n",
    "graph['A'] = ['B','C']\n",
    "graph['B'] = ['E','C','A']\n",
    "graph['C'] = ['A','B','E','F']\n",
    "graph['E'] = ['B','C']\n",
    "graph['F'] = ['C']"
   ]
  },
  {
   "cell_type": "markdown",
   "metadata": {},
   "source": [
    "Adjacency matrices"
   ]
  },
  {
   "cell_type": "code",
   "execution_count": 13,
   "metadata": {},
   "outputs": [
    {
     "data": {
      "text/plain": [
       "[[0, 1, 1, 0, 0],\n",
       " [1, 0, 1, 1, 0],\n",
       " [1, 1, 0, 1, 1],\n",
       " [0, 1, 1, 0, 0],\n",
       " [0, 0, 1, 0, 0]]"
      ]
     },
     "execution_count": 13,
     "metadata": {},
     "output_type": "execute_result"
    }
   ],
   "source": [
    "matrix_elements = sorted(graph.keys())\n",
    "\n",
    "cols = rows = len(matrix_elements)\n",
    "\n",
    "#initialize adjacency matrix with 0\n",
    "adjacency_matrix = []\n",
    "for x in range(rows):\n",
    "    l = []\n",
    "    for y in range(cols):\n",
    "        l.append(0)\n",
    "    adjacency_matrix.append(l)\n",
    "\n",
    "adjacency_matrix\n",
    "\n",
    "\n",
    "for key,val in graph.items():\n",
    "    i = matrix_elements.index(key)\n",
    "    for v in val:\n",
    "        j = matrix_elements.index(v)\n",
    "        adjacency_matrix[i][j] = 1\n",
    "\n",
    "\n",
    "adjacency_matrix  \n"
   ]
  }
 ],
 "metadata": {
  "kernelspec": {
   "display_name": "Python 3",
   "language": "python",
   "name": "python3"
  },
  "language_info": {
   "codemirror_mode": {
    "name": "ipython",
    "version": 3
   },
   "file_extension": ".py",
   "mimetype": "text/x-python",
   "name": "python",
   "nbconvert_exporter": "python",
   "pygments_lexer": "ipython3",
   "version": "3.7.6"
  }
 },
 "nbformat": 4,
 "nbformat_minor": 4
}
