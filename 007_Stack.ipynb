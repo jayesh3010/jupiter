{
 "cells": [
  {
   "cell_type": "code",
   "execution_count": 36,
   "metadata": {},
   "outputs": [],
   "source": [
    "class Node:\n",
    "    def __init__(self,data=None):\n",
    "        self.data = data\n",
    "        self.next = None\n",
    "    def __str__(self):\n",
    "        return str(self.data)\n",
    "    \n",
    "class Stack:\n",
    "    def __init__(self, top = None,count = 0):\n",
    "        self.top = top\n",
    "        self.count = count\n",
    "\n",
    "    def push(self,data):\n",
    "        node = Node(data)\n",
    "        if self.count == 0:\n",
    "            self.top = node\n",
    "            self.count += 1\n",
    "        else:\n",
    "            t = self.top\n",
    "            self.top = node\n",
    "            node.next = t\n",
    "            self.count += 1\n",
    "    \n",
    "    def pop(self):\n",
    "        if self.count==0:\n",
    "            return None\n",
    "        else:\n",
    "            node = self.top\n",
    "            self.top = self.top.next\n",
    "            self.count -=1\n",
    "            return node.data\n",
    "    \n",
    "    def peek(self):\n",
    "        if self.top:\n",
    "            return self.top.data\n",
    "        else:\n",
    "            return None\n"
   ]
  },
  {
   "cell_type": "code",
   "execution_count": 35,
   "metadata": {},
   "outputs": [
    {
     "name": "stdout",
     "output_type": "stream",
     "text": [
      "None\n",
      "three\n",
      "three\n",
      "two\n",
      "one\n",
      "None\n"
     ]
    }
   ],
   "source": [
    "s = Stack()\n",
    "print(s.pop())\n",
    "s.push('one')\n",
    "s.push('two')\n",
    "s.push('three')\n",
    "print(s.peek())\n",
    "print(s.pop())\n",
    "print(s.pop())\n",
    "print(s.pop())\n",
    "print(s.pop())"
   ]
  },
  {
   "cell_type": "code",
   "execution_count": 34,
   "metadata": {},
   "outputs": [
    {
     "data": {
      "text/plain": [
       "'False'"
      ]
     },
     "execution_count": 34,
     "metadata": {},
     "output_type": "execute_result"
    }
   ],
   "source": [
    "def check_brackets(statement):\n",
    "    stack = Stack()\n",
    "    for char in statement:\n",
    "        \n",
    "        if char in ['[','{','(']:\n",
    "            stack.push(char)\n",
    "        \n",
    "        if char in [']','}',')']:\n",
    "            p = stack.pop()\n",
    "            \n",
    "            if char == ')' and p == '(':\n",
    "                continue\n",
    "            elif char == '}' and p == '{':\n",
    "                continue\n",
    "            elif char == ']' and p == '[':\n",
    "                continue\n",
    "            else:\n",
    "                return 'False'\n",
    "    if stack.count > 0:\n",
    "        return 'False'\n",
    "    else:\n",
    "        return 'True'\n",
    "\n",
    "        \n",
    "\n",
    "check_brackets('[{')"
   ]
  },
  {
   "cell_type": "code",
   "execution_count": null,
   "metadata": {},
   "outputs": [],
   "source": []
  },
  {
   "cell_type": "code",
   "execution_count": null,
   "metadata": {},
   "outputs": [],
   "source": []
  }
 ],
 "metadata": {
  "kernelspec": {
   "display_name": "Python 3",
   "language": "python",
   "name": "python3"
  },
  "language_info": {
   "codemirror_mode": {
    "name": "ipython",
    "version": 3
   },
   "file_extension": ".py",
   "mimetype": "text/x-python",
   "name": "python",
   "nbconvert_exporter": "python",
   "pygments_lexer": "ipython3",
   "version": "3.7.6"
  }
 },
 "nbformat": 4,
 "nbformat_minor": 4
}
