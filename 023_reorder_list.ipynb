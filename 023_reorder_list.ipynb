{
 "cells": [
  {
   "cell_type": "markdown",
   "metadata": {},
   "source": [
    "https://leetcode.com/problems/reorder-list/"
   ]
  },
  {
   "cell_type": "code",
   "execution_count": 3,
   "metadata": {},
   "outputs": [],
   "source": [
    "# Definition for singly-linked list.\n",
    "class ListNode:\n",
    "     def __init__(self, val=0, next=None):\n",
    "         self.val = val\n",
    "         self.next = next\n",
    "class Solution:\n",
    "    def reorderList(self, head: ListNode) -> None:\n",
    "        \n",
    "        #find the middle\n",
    "        \n",
    "        #print(head)\n",
    "        \n",
    "        if head is None:\n",
    "            return\n",
    "        \n",
    "        prev = None\n",
    "        slow = head\n",
    "        fast = head\n",
    "        \n",
    "        while fast is not None and fast.next is not None and fast.next.next is not None:\n",
    "            \n",
    "            slow = slow.next\n",
    "            fast = fast.next.next\n",
    "        \n",
    "        #print(slow)\n",
    "        #print(fast)\n",
    "        \n",
    "        mid = slow.next\n",
    "        slow.next = None\n",
    "        mid = self.revlist(mid)\n",
    "        \n",
    "        #print(head)\n",
    "        #print(mid)\n",
    "        \n",
    "        curr = head\n",
    "        \n",
    "        while curr is not None:\n",
    "            if mid is not None:\n",
    "                x = curr.next\n",
    "                y = mid.next\n",
    "                curr.next = mid\n",
    "                mid.next = x\n",
    "                mid = y\n",
    "                curr = x\n",
    "            else:\n",
    "                curr = curr.next\n",
    "                \n",
    "        \n",
    "        #print(head)\n",
    "        \n",
    "        \n",
    "    def revlist(self,root: ListNode) -> ListNode:\n",
    "        \n",
    "        curr = root\n",
    "        x,y,z = None, None,None\n",
    "        \n",
    "        while curr is not None:\n",
    "            \n",
    "            y = curr\n",
    "            \n",
    "            z = curr.next\n",
    "            \n",
    "            y.next = x\n",
    "            \n",
    "            x = curr\n",
    "            \n",
    "            curr = z\n",
    "        \n",
    "        #print(x)\n",
    "        return x\n",
    "        "
   ]
  },
  {
   "cell_type": "code",
   "execution_count": null,
   "metadata": {},
   "outputs": [],
   "source": []
  }
 ],
 "metadata": {
  "kernelspec": {
   "display_name": "Python 3",
   "language": "python",
   "name": "python3"
  },
  "language_info": {
   "codemirror_mode": {
    "name": "ipython",
    "version": 3
   },
   "file_extension": ".py",
   "mimetype": "text/x-python",
   "name": "python",
   "nbconvert_exporter": "python",
   "pygments_lexer": "ipython3",
   "version": "3.8.3"
  }
 },
 "nbformat": 4,
 "nbformat_minor": 4
}
